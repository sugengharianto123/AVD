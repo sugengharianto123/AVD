{
 "cells": [
  {
   "cell_type": "code",
   "execution_count": 14,
   "metadata": {},
   "outputs": [
    {
     "name": "stdout",
     "output_type": "stream",
     "text": [
      "   Pregnancies  Glucose  BloodPressure  SkinThickness  Insulin   BMI  \\\n",
      "0            6      148             72             35        0  33.6   \n",
      "1            1       85             66             29        0  26.6   \n",
      "2            8      183             64              0        0  23.3   \n",
      "3            1       89             66             23       94  28.1   \n",
      "4            0      137             40             35      168  43.1   \n",
      "\n",
      "   DiabetesPedigreeFunction  Age  Outcome  \n",
      "0                     0.627   50        1  \n",
      "1                     0.351   31        0  \n",
      "2                     0.672   32        1  \n",
      "3                     0.167   21        0  \n",
      "4                     2.288   33        1  \n"
     ]
    }
   ],
   "source": [
    "import pandas as pd\n",
    "data = pd.read_csv('diabetes.csv')\n",
    "print(data.head())"
   ]
  },
  {
   "cell_type": "code",
   "execution_count": 20,
   "metadata": {},
   "outputs": [
    {
     "name": "stdout",
     "output_type": "stream",
     "text": [
      "Pregnancies                 0\n",
      "Glucose                     0\n",
      "BloodPressure               0\n",
      "SkinThickness               0\n",
      "Insulin                     0\n",
      "BMI                         0\n",
      "DiabetesPedigreeFunction    0\n",
      "Age                         0\n",
      "Outcome                     0\n",
      "dtype: int64\n",
      "\n",
      " Pregnancies                 0\n",
      "Glucose                     0\n",
      "BloodPressure               0\n",
      "SkinThickness               0\n",
      "Insulin                     0\n",
      "BMI                         0\n",
      "DiabetesPedigreeFunction    0\n",
      "Age                         0\n",
      "Outcome                     0\n",
      "dtype: int64\n"
     ]
    }
   ],
   "source": [
    "print(data.isna().sum())\n",
    "data[['Glucose', 'BloodPressure', 'SkinThickness', 'Insulin', 'BMI']] = data[['Glucose', 'BloodPressure', 'SkinThickness', 'Insulin', 'BMI']].replace(0, pd.NA)\n",
    "data.fillna(data.median(), inplace=True)\n",
    "print('\\n', data.isna().sum())\n"
   ]
  },
  {
   "cell_type": "code",
   "execution_count": 21,
   "metadata": {},
   "outputs": [
    {
     "name": "stdout",
     "output_type": "stream",
     "text": [
      "       Pregnancies     Glucose  BloodPressure  SkinThickness     Insulin  \\\n",
      "count   768.000000  768.000000     768.000000     768.000000  768.000000   \n",
      "mean      3.845052    0.501008       0.493742       0.240305    0.152250   \n",
      "std       3.369578    0.196376       0.123435       0.095557    0.103826   \n",
      "min       0.000000    0.000000       0.000000       0.000000    0.000000   \n",
      "25%       1.000000    0.359677       0.408163       0.195652    0.129207   \n",
      "50%       3.000000    0.470968       0.489796       0.239130    0.133413   \n",
      "75%       6.000000    0.620968       0.571429       0.271739    0.136118   \n",
      "max      17.000000    1.000000       1.000000       1.000000    1.000000   \n",
      "\n",
      "              BMI  DiabetesPedigreeFunction         Age     Outcome  \n",
      "count  768.000000                768.000000  768.000000  768.000000  \n",
      "mean     0.291518                  0.471876   33.240885    0.348958  \n",
      "std      0.140597                  0.331329   11.760232    0.476951  \n",
      "min      0.000000                  0.078000   21.000000    0.000000  \n",
      "25%      0.190184                  0.243750   24.000000    0.000000  \n",
      "50%      0.288344                  0.372500   29.000000    0.000000  \n",
      "75%      0.376278                  0.626250   41.000000    1.000000  \n",
      "max      1.000000                  2.420000   81.000000    1.000000  \n"
     ]
    }
   ],
   "source": [
    "from sklearn.preprocessing import MinMaxScaler\n",
    "\n",
    "scaler = MinMaxScaler()\n",
    "data[['Glucose', 'BloodPressure', 'SkinThickness', 'Insulin', 'BMI']] = scaler.fit_transform(data[['Glucose', 'BloodPressure', 'SkinThickness', 'Insulin', 'BMI']])\n",
    "print(data.describe())\n"
   ]
  },
  {
   "cell_type": "code",
   "execution_count": 22,
   "metadata": {},
   "outputs": [
    {
     "name": "stdout",
     "output_type": "stream",
     "text": [
      "Outcome                     1.000000\n",
      "Glucose                     0.492782\n",
      "BMI                         0.312038\n",
      "Age                         0.238356\n",
      "Pregnancies                 0.221898\n",
      "SkinThickness               0.214873\n",
      "Insulin                     0.203790\n",
      "DiabetesPedigreeFunction    0.173844\n",
      "BloodPressure               0.165723\n",
      "Name: Outcome, dtype: float64\n",
      "    Glucose       BMI  Age  Pregnancies\n",
      "0  0.670968  0.314928   50            6\n",
      "1  0.264516  0.171779   31            1\n",
      "2  0.896774  0.104294   32            8\n",
      "3  0.290323  0.202454   21            1\n",
      "4  0.600000  0.509202   33            0\n"
     ]
    }
   ],
   "source": [
    "correlation = data.corr()['Outcome'].abs().sort_values(ascending=False)\n",
    "print(correlation)\n",
    "\n",
    "selected_features = correlation.index[1:5]\n",
    "data = data[selected_features]\n",
    "print(data.head())\n"
   ]
  },
  {
   "cell_type": "code",
   "execution_count": null,
   "metadata": {},
   "outputs": [],
   "source": [
    "from sklearn.decomposition import PCA\n",
    "\n",
    "pca = PCA(n_components=2)\n",
    "data_reduced = pca.fit_transform(data)\n",
    "print(data_reduced[:5])  # Menampilkan 5 baris pertama hasil reduksi\n",
    "\n",
    "# Visualisasi hasil reduksi data (opsional)\n",
    "import matplotlib.pyplot as plt\n",
    "\n",
    "plt.scatter(data_reduced[:, 0], data_reduced[:, 1], c='blue', label='Data')\n",
    "plt.title('PCA of Selected Features')\n",
    "plt.xlabel('Principal Component 1')\n",
    "plt.ylabel('Principal Component 2')\n",
    "plt.legend()\n",
    "plt.show()\n"
   ]
  }
 ],
 "metadata": {
  "kernelspec": {
   "display_name": "Python 3",
   "language": "python",
   "name": "python3"
  },
  "language_info": {
   "codemirror_mode": {
    "name": "ipython",
    "version": 3
   },
   "file_extension": ".py",
   "mimetype": "text/x-python",
   "name": "python",
   "nbconvert_exporter": "python",
   "pygments_lexer": "ipython3",
   "version": "3.10.9"
  }
 },
 "nbformat": 4,
 "nbformat_minor": 2
}
